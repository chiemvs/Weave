{
 "cells": [
  {
   "cell_type": "code",
   "execution_count": 8,
   "metadata": {},
   "outputs": [],
   "source": [
    "import sys\n",
    "import logging\n",
    "import xarray as xr\n",
    "import numpy as np\n",
    "import pandas as pd\n",
    "import netCDF4 as nc\n",
    "import matplotlib.pyplot as plt\n",
    "from pathlib import Path\n",
    "from scipy.stats import spearmanr\n",
    "from scipy.signal import detrend\n",
    "\n",
    "sys.path.append('..')\n",
    "from Weave.utils import spearmanr_wrap, spearmanr_cv, spearmanr_par, agg_time, scipy_stats_decorator, bootstrap"
   ]
  },
  {
   "cell_type": "code",
   "execution_count": 3,
   "metadata": {},
   "outputs": [],
   "source": [
    "f = bootstrap(10,scipy_stats_decorator(spearmanr)\n",
    "data = np.random.randint(0,10,(10000,2))"
   ]
  },
  {
   "cell_type": "code",
   "execution_count": 5,
   "metadata": {},
   "outputs": [
    {
     "name": "stdout",
     "output_type": "stream",
     "text": [
      "1.98 ms ± 267 µs per loop (mean ± std. dev. of 7 runs, 100 loops each)\n"
     ]
    }
   ],
   "source": [
    "%timeit spearmanr(data)"
   ]
  },
  {
   "cell_type": "code",
   "execution_count": 9,
   "metadata": {},
   "outputs": [
    {
     "data": {
      "text/plain": [
       "SpearmanrResult(correlation=-0.024992654648455286, pvalue=0.012442367504550522)"
      ]
     },
     "execution_count": 9,
     "metadata": {},
     "output_type": "execute_result"
    }
   ],
   "source": [
    "f(data)"
   ]
  },
  {
   "cell_type": "code",
   "execution_count": 10,
   "metadata": {},
   "outputs": [
    {
     "data": {
      "text/plain": [
       "SpearmanrResult(correlation=-0.024992654648455286, pvalue=0.012442367504550522)"
      ]
     },
     "execution_count": 10,
     "metadata": {},
     "output_type": "execute_result"
    }
   ],
   "source": [
    "spearmanr_wrap(data)"
   ]
  },
  {
   "cell_type": "code",
   "execution_count": 2,
   "metadata": {},
   "outputs": [],
   "source": [
    "t2m = xr.open_dataarray('/scistor/ivm/jsn295/processed/t2m_europe.anom.nc').sel(latitude = 52, longitude = 6).load()\n",
    "swvl = xr.open_dataarray('/scistor/ivm/jsn295/processed/swvl13_europe.anom.nc').sel(latitude = 52, longitude = 6).load()"
   ]
  },
  {
   "cell_type": "code",
   "execution_count": 39,
   "metadata": {},
   "outputs": [],
   "source": [
    "timeaggs = [1,3,5,7,11,15,21,31]\n",
    "separations = [0,-1,-3,-5,-7,-11,-15,-21,-31]\n",
    "results = pd.DataFrame(np.zeros((len(timeaggs)*len(separations),2)), columns = ['cor','parcor'], index = pd.MultiIndex.from_product([timeaggs,separations], names = ['timeagg','separation']))\n",
    "for timeagg in timeaggs:\n",
    "    y_agg = agg_time(t2m, ndayagg=timeagg, rolling = True).sel(time = slice('1981','2018',None))\n",
    "    # merge with lag -1 of itself (zeroth column itself)\n",
    "    y_agg_m1 = xr.DataArray(np.column_stack([y_agg[timeagg:],y_agg[:-timeagg]]), dims = ('time','what'), coords = {'time':y_agg.coords['time'][timeagg:],'what':['t','t-1']})\n",
    "    y_agg = y_agg.loc[y_agg.time.dt.season == 'JJA']\n",
    "    y_agg.values = detrend(y_agg, axis = 0)\n",
    "    y_agg_m1 = y_agg_m1.loc[y_agg_m1.time.dt.season == 'JJA']\n",
    "    y_agg_m1.values = detrend(y_agg_m1, axis = 0)\n",
    "    \n",
    "    X_agg = agg_time(swvl, ndayagg=timeagg, rolling = True)\n",
    "    \n",
    "    for separation in separations:\n",
    "        X = X_agg.copy()\n",
    "        X.coords['time'] = X.coords['time'] - pd.Timedelta(abs(separation) + timeagg, 'days')    \n",
    "        X_m1 = xr.DataArray(np.column_stack([X[timeagg:],X[:-timeagg]]), dims = ('time','what'), coords = {'time':X.coords['time'][timeagg:],'what':['t','t-1']})\n",
    "        X = X.reindex_like(y_agg)\n",
    "        X.values = detrend(X, axis = 0)\n",
    "        X_m1 = X_m1.reindex_like(y_agg)\n",
    "        X_m1.values = detrend(X_m1, axis = 0)\n",
    "        cor, _ = spearmanr(a = y_agg, b = X)\n",
    "        parcor, _ = spearmanr_par(a = y_agg_m1, b = X_m1)\n",
    "        results.loc[(timeagg,separation)] = [cor,parcor]\n",
    "\n",
    "#a = np.column_stack([t2m[1:],t2m[:-1]]) # First column is concurrent. 2nd is value from one step back\n",
    "#b = np.column_stack([z300[1:],z300[:-1]]) "
   ]
  },
  {
   "cell_type": "code",
   "execution_count": 40,
   "metadata": {},
   "outputs": [
    {
     "data": {
      "text/plain": [
       "<matplotlib.legend.Legend at 0x2aab82195cf8>"
      ]
     },
     "execution_count": 40,
     "metadata": {},
     "output_type": "execute_result"
    },
    {
     "data": {
      "image/png": "[encoded data removed]",
      "text/plain": [
       "<Figure size 576x252 with 2 Axes>"
      ]
     },
     "metadata": {
      "needs_background": "light"
     },
     "output_type": "display_data"
    }
   ],
   "source": [
    "fix, axes = plt.subplots(nrows= 1, ncols = 2, sharex=True, sharey=True, figsize = (8,3.5))\n",
    "unrelated = results.loc[(slice(None),-3),:]\n",
    "axes[0].plot(unrelated.index.get_level_values('timeagg'), unrelated)\n",
    "axes[0].set_ylabel('spearman rank corr')\n",
    "axes[0].set_xlabel('rolling window size')\n",
    "axes[0].set_title('local soilm~t2m, at separation -3 d')\n",
    "related = results.loc[(slice(None),-31),:]\n",
    "axes[1].plot(unrelated.index.get_level_values('timeagg'), related)\n",
    "axes[1].set_title('local soilm~t2m, at separation -31 d')\n",
    "axes[1].set_xlabel('rolling window size')\n",
    "axes[1].legend(labels = related.columns.tolist())"
   ]
  },
  {
   "cell_type": "code",
   "execution_count": 33,
   "metadata": {},
   "outputs": [
    {
     "data": {
      "text/plain": [
       "['cor', 'parcor']"
      ]
     },
     "execution_count": 33,
     "metadata": {},
     "output_type": "execute_result"
    }
   ],
   "source": []
  },
  {
   "cell_type": "code",
   "execution_count": null,
   "metadata": {},
   "outputs": [],
   "source": []
  }
 ],
 "metadata": {
  "kernelspec": {
   "display_name": "Python 3",
   "language": "python",
   "name": "python3"
  },
  "language_info": {
   "codemirror_mode": {
    "name": "ipython",
    "version": 3
   },
   "file_extension": ".py",
   "mimetype": "text/x-python",
   "name": "python",
   "nbconvert_exporter": "python",
   "pygments_lexer": "ipython3",
   "version": "3.6.8"
  }
 },
 "nbformat": 4,
 "nbformat_minor": 4
}
