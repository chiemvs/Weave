{
 "cells": [
  {
   "cell_type": "code",
   "execution_count": 2,
   "metadata": {},
   "outputs": [],
   "source": [
    "import sys\n",
    "import xarray as xr\n",
    "import numpy as np\n",
    "import pandas as pd\n",
    "import matplotlib.pyplot as plt\n",
    "from pathlib import Path\n",
    "from scipy.signal import detrend\n",
    "from scipy.stats import gaussian_kde, weightedtau, kendalltau, pearsonr, spearmanr, rankdata\n",
    "%matplotlib inline"
   ]
  },
  {
   "cell_type": "code",
   "execution_count": 1,
   "metadata": {},
   "outputs": [
    {
     "ename": "NameError",
     "evalue": "name 'Path' is not defined",
     "output_type": "error",
     "traceback": [
      "\u001b[0;31m---------------------------------------------------------------------------\u001b[0m",
      "\u001b[0;31mNameError\u001b[0m                                 Traceback (most recent call last)",
      "\u001b[0;32m<ipython-input-1-e6cfd9d6f598>\u001b[0m in \u001b[0;36m<module>\u001b[0;34m\u001b[0m\n\u001b[0;32m----> 1\u001b[0;31m \u001b[0mHOMEDIR\u001b[0m \u001b[0;34m=\u001b[0m \u001b[0mPath\u001b[0m\u001b[0;34m(\u001b[0m\u001b[0;34m'/scistor/ivm/jsn295/'\u001b[0m\u001b[0;34m)\u001b[0m\u001b[0;34m\u001b[0m\u001b[0;34m\u001b[0m\u001b[0m\n\u001b[0m\u001b[1;32m      2\u001b[0m \u001b[0msys\u001b[0m\u001b[0;34m.\u001b[0m\u001b[0mpath\u001b[0m\u001b[0;34m.\u001b[0m\u001b[0mappend\u001b[0m\u001b[0;34m(\u001b[0m\u001b[0mstr\u001b[0m\u001b[0;34m(\u001b[0m\u001b[0mHOMEDIR\u001b[0m\u001b[0;34m)\u001b[0m\u001b[0;34m)\u001b[0m\u001b[0;34m\u001b[0m\u001b[0;34m\u001b[0m\u001b[0m\n\u001b[1;32m      3\u001b[0m \u001b[0;32mfrom\u001b[0m \u001b[0mWeave\u001b[0m\u001b[0;34m.\u001b[0m\u001b[0msrc\u001b[0m\u001b[0;34m.\u001b[0m\u001b[0mutils\u001b[0m \u001b[0;32mimport\u001b[0m \u001b[0magg_time\u001b[0m\u001b[0;34m,\u001b[0m \u001b[0mchi\u001b[0m\u001b[0;34m\u001b[0m\u001b[0;34m\u001b[0m\u001b[0m\n\u001b[1;32m      4\u001b[0m \u001b[0;32mfrom\u001b[0m \u001b[0mSubSeas\u001b[0m\u001b[0;34m.\u001b[0m\u001b[0mhelper_functions\u001b[0m \u001b[0;32mimport\u001b[0m \u001b[0mmonthtoseasonlookup\u001b[0m\u001b[0;34m\u001b[0m\u001b[0;34m\u001b[0m\u001b[0m\n",
      "\u001b[0;31mNameError\u001b[0m: name 'Path' is not defined"
     ]
    }
   ],
   "source": [
    "HOMEDIR = Path('/scistor/ivm/jsn295/')\n",
    "sys.path.append(str(HOMEDIR))\n",
    "from Weave.src.utils import agg_time, chi\n",
    "from SubSeas.helper_functions import monthtoseasonlookup"
   ]
  },
  {
   "cell_type": "code",
   "execution_count": null,
   "metadata": {},
   "outputs": [],
   "source": [
    "response = xr.open_dataarray(HOMEDIR / 'processed/t2m_europe.anom.nc')\n",
    "clusterfield = xr.open_dataarray(HOMEDIR / 'clusters/t2m-q095.nc').sel(nclusters = 14)\n",
    "reduced = response.groupby(clusterfield).mean('stacked_latitude_longitude')\n",
    "reduced = reduced.sel(clustid = 9)"
   ]
  },
  {
   "cell_type": "code",
   "execution_count": null,
   "metadata": {
    "scrolled": true
   },
   "outputs": [],
   "source": [
    "reduced.plot()"
   ]
  },
  {
   "cell_type": "markdown",
   "metadata": {},
   "source": [
    "### Look at the sst patterns and z300 patterns"
   ]
  },
  {
   "cell_type": "code",
   "execution_count": null,
   "metadata": {},
   "outputs": [],
   "source": [
    "sstcorr = xr.open_dataarray(HOMEDIR / 'correlation_roll_spearman/sst_nhplus.5.corr.nc', decode_times = False)\n",
    "z300corr = xr.open_dataarray(HOMEDIR / 'correlation_roll_spearman/z300_nhmin.5.corr.nc', decode_times = False)"
   ]
  },
  {
   "cell_type": "code",
   "execution_count": null,
   "metadata": {},
   "outputs": [],
   "source": [
    "sstcorr[0].plot()"
   ]
  },
  {
   "cell_type": "code",
   "execution_count": null,
   "metadata": {},
   "outputs": [],
   "source": [
    "sstcorr.sel(latitude = 45, longitude = -30, method = 'nearest').plot()"
   ]
  },
  {
   "cell_type": "code",
   "execution_count": null,
   "metadata": {},
   "outputs": [],
   "source": [
    "sstcorr.sel(latitude = 37, longitude = -50, method = 'nearest').plot()"
   ]
  },
  {
   "cell_type": "code",
   "execution_count": null,
   "metadata": {},
   "outputs": [],
   "source": [
    "sstcorr.sel(latitude = 43, longitude = 4.3, method = 'nearest').plot()"
   ]
  },
  {
   "cell_type": "code",
   "execution_count": 5,
   "metadata": {},
   "outputs": [],
   "source": [
    "sstcoords = pd.DataFrame({'latitude':[37,45,43],\n",
    "                      'longitude':[-50,-30,4.3]},\n",
    "                     index = pd.Index(['athot','atcold','medhot'], name = 'location'))"
   ]
  },
  {
   "cell_type": "code",
   "execution_count": null,
   "metadata": {},
   "outputs": [],
   "source": [
    "sstcoords"
   ]
  },
  {
   "cell_type": "code",
   "execution_count": null,
   "metadata": {},
   "outputs": [],
   "source": [
    "z300corr[4].plot()"
   ]
  },
  {
   "cell_type": "code",
   "execution_count": null,
   "metadata": {},
   "outputs": [],
   "source": [
    "z300corr[0].plot()"
   ]
  },
  {
   "cell_type": "code",
   "execution_count": null,
   "metadata": {},
   "outputs": [],
   "source": [
    "z300corr.sel(latitude = 50, longitude = 60, method = 'nearest').plot()"
   ]
  },
  {
   "cell_type": "code",
   "execution_count": null,
   "metadata": {},
   "outputs": [],
   "source": [
    "z300corr.sel(latitude = 30, longitude = 60, method = 'nearest').plot()"
   ]
  },
  {
   "cell_type": "code",
   "execution_count": 6,
   "metadata": {},
   "outputs": [],
   "source": [
    "z300coords = pd.DataFrame({'latitude':[50,30],\n",
    "                      'longitude':[60,60]},\n",
    "                     index = pd.Index(['kzlow','irhigh'], name = 'location'))"
   ]
  },
  {
   "cell_type": "code",
   "execution_count": null,
   "metadata": {},
   "outputs": [],
   "source": [
    "z300coords"
   ]
  },
  {
   "cell_type": "code",
   "execution_count": 7,
   "metadata": {},
   "outputs": [],
   "source": [
    "coords = pd.concat([sstcoords, z300coords], axis = 0, keys = ['sst','z300'], names = ['variable','location'])"
   ]
  },
  {
   "cell_type": "code",
   "execution_count": null,
   "metadata": {
    "scrolled": true
   },
   "outputs": [],
   "source": [
    "#sstcorr.close()\n",
    "#z300corr.close()\n",
    "coords"
   ]
  },
  {
   "cell_type": "markdown",
   "metadata": {},
   "source": [
    "### Take these coords to extract unaggregated anomalie timeseries\n",
    "And then investigate their (lagged / aggregated) properties and dependencies with the reduced response"
   ]
  },
  {
   "cell_type": "code",
   "execution_count": 8,
   "metadata": {},
   "outputs": [],
   "source": [
    "data = {}\n",
    "for ind, cords in coords.groupby(['variable','location']):\n",
    "    array =  xr.open_dataarray((HOMEDIR / 'processed/sst_nhplus.anom.nc') if ind[0] == 'sst' else (HOMEDIR / 'processed/z300_nhmin.anom.nc'))\n",
    "    #print(array.sel(latitude = cords['latitude'][0], longitude = cords['longitude'][0], method = 'nearest').values)\n",
    "    data.update({ind:array.sel(latitude = cords['latitude'][0], longitude = cords['longitude'][0], method = 'nearest').values})\n",
    "    data.update({('time',''):array.coords['time'].values})\n",
    "    array.close()"
   ]
  },
  {
   "cell_type": "code",
   "execution_count": 9,
   "metadata": {},
   "outputs": [],
   "source": [
    "test = pd.DataFrame(data)\n",
    "test = test.set_index('time')\n",
    "test.loc[:,('t2m','westeur')] = reduced.values"
   ]
  },
  {
   "cell_type": "markdown",
   "metadata": {},
   "source": [
    "First check, concurrent and summer only"
   ]
  },
  {
   "cell_type": "code",
   "execution_count": null,
   "metadata": {},
   "outputs": [],
   "source": [
    "summer = test.loc[monthtoseasonlookup(test.index.month) == 'JJA',:]"
   ]
  },
  {
   "cell_type": "code",
   "execution_count": null,
   "metadata": {},
   "outputs": [],
   "source": [
    "summer.hist()"
   ]
  },
  {
   "cell_type": "markdown",
   "metadata": {},
   "source": [
    "So clearly the geopotential heigths are not really normally distributed within summer. Potentially due to a large trend?"
   ]
  },
  {
   "cell_type": "code",
   "execution_count": null,
   "metadata": {},
   "outputs": [],
   "source": [
    "summer.loc[:,('z300','irhigh')].plot()"
   ]
  },
  {
   "cell_type": "code",
   "execution_count": null,
   "metadata": {},
   "outputs": [],
   "source": [
    "summer_det = summer.copy()\n",
    "summer_det.loc[:,:] = detrend(summer_det, axis = 0)\n",
    "summer_det.hist()"
   ]
  },
  {
   "cell_type": "code",
   "execution_count": null,
   "metadata": {},
   "outputs": [],
   "source": [
    "np.round(np.corrcoef(summer, rowvar = False), 3)"
   ]
  },
  {
   "cell_type": "code",
   "execution_count": null,
   "metadata": {},
   "outputs": [],
   "source": [
    "summer_det.plot.scatter(x = -4, y = -1)"
   ]
  },
  {
   "cell_type": "markdown",
   "metadata": {},
   "source": [
    "### Now we go back to the full timeseries to make a lagging + aggregating + dependence"
   ]
  },
  {
   "cell_type": "code",
   "execution_count": 10,
   "metadata": {},
   "outputs": [],
   "source": [
    "temp = test.copy()\n",
    "tempxr = xr.DataArray(temp)"
   ]
  },
  {
   "cell_type": "code",
   "execution_count": 11,
   "metadata": {},
   "outputs": [],
   "source": [
    "aggregated = agg_time(tempxr, ndayagg = 5, rolling = True)\n",
    "agg = aggregated[aggregated.time.dt.season == 'JJA',:].to_pandas()"
   ]
  },
  {
   "cell_type": "code",
   "execution_count": null,
   "metadata": {},
   "outputs": [],
   "source": [
    "agg.plot.scatter(x = -2, y = -1)"
   ]
  },
  {
   "cell_type": "code",
   "execution_count": null,
   "metadata": {},
   "outputs": [],
   "source": [
    "np.round(np.corrcoef(agg,rowvar = False), 4)"
   ]
  },
  {
   "cell_type": "code",
   "execution_count": null,
   "metadata": {},
   "outputs": [],
   "source": [
    "bi_var = agg.loc[:,(slice(None),['kzlow','westeur'])]\n",
    "bi_var_transp = bi_var.values.T\n",
    "z = gaussian_kde(dataset=bi_var_transp)(bi_var_transp)\n",
    "idx = z.argsort()"
   ]
  },
  {
   "cell_type": "code",
   "execution_count": null,
   "metadata": {},
   "outputs": [],
   "source": [
    "x = bi_var_transp[0,:][idx]\n",
    "y = bi_var_transp[1,:][idx]\n",
    "z = z[idx]"
   ]
  },
  {
   "cell_type": "code",
   "execution_count": null,
   "metadata": {},
   "outputs": [],
   "source": [
    "fig, ax = plt.subplots()\n",
    "ax.scatter(x, y, c=z, s=10, edgecolor=None)\n",
    "plt.show()"
   ]
  },
  {
   "cell_type": "code",
   "execution_count": null,
   "metadata": {
    "scrolled": true
   },
   "outputs": [],
   "source": [
    "def density_plot(xy, ax, xlabel = None, ylabel = None, title = None, annotations: dict = None):\n",
    "    \"\"\"\n",
    "    shape (2,n_obs), with x on [0,:] and y on [1,:]\n",
    "    \"\"\"\n",
    "    z = gaussian_kde(dataset=xy)(xy)\n",
    "    idx = z.argsort()\n",
    "    x = xy[0,:][idx]\n",
    "    y = xy[1,:][idx]\n",
    "    z = z[idx]\n",
    "    ax.scatter(x, y, c=z, s=10, edgecolor=None)\n",
    "    if not xlabel is None:\n",
    "        ax.set_xlabel(xlabel)\n",
    "    if not ylabel is None:\n",
    "        ax.set_ylabel(ylabel)\n",
    "    if not title is None:\n",
    "        ax.set_title(title)\n",
    "    if not annotations is None:\n",
    "        ys = list(np.arange(0.1, 0.1* len(annotations), 0.1))\n",
    "        for key, val in annotations.items():\n",
    "            ax.annotate(s = f'{key},{val}', xy = (0.01,ys.pop()), xycoords = 'axes fraction', color = 'r', fontweight = 'bold')\n",
    "    return ax\n",
    "\n",
    "# Ranking by precursor (standard postitive), ranking by precursor (choice), mixture, unweighted, pearson, spearman\n",
    "def rankdirection(x,y):\n",
    "    \"\"\"\n",
    "    Returns a rank array (0 most important) with emphasis on negative x when negative relation\n",
    "    emphasis on positive x when positive overall relation\n",
    "    \"\"\"\n",
    "    ranks = rankdata(x, method = 'ordinal')\n",
    "    if pearsonr(x = x, y = y)[0] < 0:\n",
    "        return ranks\n",
    "    else:\n",
    "        return ranks.max() - ranks\n",
    "\n",
    "def generate_corrs(x,y):\n",
    "    corrs = {}\n",
    "    corrs['pearson'] = pearsonr(x = x, y = y)[0]\n",
    "    corrs['spearman'] = spearmanr(a = x, b = y)[0]\n",
    "    corrs['tau'] = kendalltau(x,y)[0]\n",
    "    corrs['tauw_avg'] = weightedtau(x = x, y = y, rank=True)[0]\n",
    "    corrs['tauw_xps'] = weightedtau(x = x, y = y, rank=None)[0]\n",
    "    corrs['tauw_xch'] = weightedtau(x = x, y = y, rank=rankdirection(x = x, y = y))[0]\n",
    "    return {key: np.round(item, 4) for key, item in corrs.items()}\n",
    "\n",
    "# Aggregation controls. For a single aggregation I want to make series of scatterplots at multiple lags. For one variable.\n",
    "def lag_and_plot_pair(aggarr, laglist, x = ('z300','kzlow'), y = ('t2m','westeur'), detr = False):\n",
    "    \"\"\"\n",
    "    Is supplied with the aggregated array (outcome of agg_time), does lagging with xarray\n",
    "    laglist is in days \n",
    "    Then subsetting and plotting the scatter    \n",
    "    \"\"\"\n",
    "    aggarr = aggarr.copy()\n",
    "    oritimeaxis = aggarr.coords['time']\n",
    "    start = pd.Timestamp(oritimeaxis[0].values).strftime('%Y-%m-%d')\n",
    "    yvals = aggarr.sel(dim_1 = y)[aggarr.time.dt.season == 'JJA']\n",
    "    fig, axes = plt.subplots(ncols = len(laglist), figsize = (4*len(laglist),3))\n",
    "    for lag in laglist:\n",
    "        aggarr['time'] = oritimeaxis - pd.Timedelta(str(lag) + 'D')\n",
    "        print(f'lag: {lag} assigns {pd.Timestamp(aggarr[\"time\"][0].values).strftime(\"%Y-%m-%d\")} to xvalue at {start}')\n",
    "        xvals = aggarr.sel(dim_1 = x).reindex_like(yvals)\n",
    "        xy = np.vstack([xvals.values, yvals.values])\n",
    "        if detr:\n",
    "            xy = detrend(xy, axis = 1)\n",
    "        corrs = generate_corrs(x = xy[0,:], y = xy[1,:])\n",
    "        axes[laglist.index(lag)] = density_plot(xy, ax = axes[laglist.index(lag)], xlabel = x, ylabel = y, title = f'lag {lag} [days], detr: {detr}', annotations = corrs)\n",
    "        \n",
    "    plt.show()"
   ]
  },
  {
   "cell_type": "code",
   "execution_count": null,
   "metadata": {},
   "outputs": [],
   "source": [
    "aggregated = agg_time(tempxr, ndayagg = 5, rolling = True)"
   ]
  },
  {
   "cell_type": "code",
   "execution_count": null,
   "metadata": {},
   "outputs": [],
   "source": [
    "lag_and_plot_pair(aggregated, laglist = [0,-1,-3,-5,-7,-10], x=('z300','irhigh'), detr =True)"
   ]
  },
  {
   "cell_type": "code",
   "execution_count": null,
   "metadata": {},
   "outputs": [],
   "source": [
    "lag_and_plot_pair(aggregated, laglist = [0,-1,-3,-5,-7,-10], x=('z300','kzlow'), detr = True)"
   ]
  },
  {
   "cell_type": "code",
   "execution_count": null,
   "metadata": {},
   "outputs": [],
   "source": [
    "lag_and_plot_pair(aggregated, laglist = [-1,-3,-5,-7,-10,-20,-30], x=('sst','atcold'), detr = True)"
   ]
  },
  {
   "cell_type": "markdown",
   "metadata": {},
   "source": [
    "Interestingly you see the rolling aggregation in the fact that there are trajectories in the outliers. I wonder how the plots will change with different aggregation periods and with a detrending. Perhaps the dense yellow blob disappears. Detrending will have most influence if the trend is different in both (sign or absent/present)"
   ]
  },
  {
   "cell_type": "markdown",
   "metadata": {},
   "source": [
    "Let's check detrending"
   ]
  },
  {
   "cell_type": "code",
   "execution_count": null,
   "metadata": {},
   "outputs": [],
   "source": [
    "lag_and_plot_pair(aggregated, laglist = [-1,-3,-5,-7,-10,-20,-30], x=('sst','athot'), detr = True)"
   ]
  },
  {
   "cell_type": "code",
   "execution_count": null,
   "metadata": {},
   "outputs": [],
   "source": [
    "lag_and_plot_pair(aggregated, laglist = [-1,-3,-5,-7,-10,-20,-30], x=('sst','medhot'), detr = True)"
   ]
  },
  {
   "cell_type": "code",
   "execution_count": null,
   "metadata": {},
   "outputs": [],
   "source": [
    "column = 0\n",
    "print(kendalltau(agg.iloc[:,column],agg.iloc[:,-1]))\n",
    "print(weightedtau(agg.iloc[:,column],agg.iloc[:,-1]))\n",
    "print(np.corrcoef(agg.iloc[:,[column,-1]], rowvar = False))"
   ]
  },
  {
   "cell_type": "code",
   "execution_count": null,
   "metadata": {},
   "outputs": [],
   "source": [
    "# Ranking by the temperature only, or both?\n",
    "ranks = rankdata(agg.iloc[:,-1], method = 'ordinal')\n",
    "ranks = ranks.max() - ranks # Zero is the largest element\n",
    "ranksx = rankdata(agg.iloc[:,column], method = 'ordinal') # Negative relation for the variable so we want extreme low to be most important.\n",
    "print(weightedtau(x = agg.iloc[:,column], y = agg.iloc[:,-1], rank=ranks))\n",
    "print(weightedtau(x = agg.iloc[:,-1], y = agg.iloc[:,column], rank=None)) # From documentation: if rank = None then Elements with larger x values will have more importance. Positive response tail\n",
    "print(weightedtau(x = agg.iloc[:,column], y = agg.iloc[:,-1], rank=None)) # Letting the precursor be the importance variable (positive tailed)\n",
    "print(weightedtau(x = agg.iloc[:,column], y = agg.iloc[:,-1], rank=ranksx)) # Explicit precursor importantce (negative tailed)\n",
    "print(weightedtau(x = agg.iloc[:,-1], y = agg.iloc[:,column], rank=ranksx)) # Explicit precursor importantce (negative tailed)\n",
    "print(weightedtau(x = agg.iloc[:,-1], y = agg.iloc[:,column], rank=True)) "
   ]
  },
  {
   "cell_type": "code",
   "execution_count": null,
   "metadata": {},
   "outputs": [],
   "source": []
  },
  {
   "cell_type": "code",
   "execution_count": null,
   "metadata": {},
   "outputs": [],
   "source": [
    "corrs = generate_corrs(x = agg.iloc[:,column], y = agg.iloc[:,-1])\n",
    "rankdirection(x = agg.iloc[:,column], y = agg.iloc[:,-1])\n",
    "aggregated = agg_time(tempxr, ndayagg = 5, rolling = True)\n",
    "lag_and_plot_pair(aggregated, laglist = [0,-1,-3,-5,-7,-10])"
   ]
  },
  {
   "cell_type": "code",
   "execution_count": null,
   "metadata": {},
   "outputs": [],
   "source": [
    "lag_and_plot_pair(aggregated, laglist = [0,-1,-3,-5,-7,-10], x = ('sst','atcold'), detr = True)"
   ]
  },
  {
   "cell_type": "code",
   "execution_count": null,
   "metadata": {},
   "outputs": [],
   "source": [
    "ranksx"
   ]
  },
  {
   "cell_type": "code",
   "execution_count": null,
   "metadata": {},
   "outputs": [],
   "source": [
    "# In the end some sort of matrix plot with aggregations and lags? One variable, multiple measures.\n",
    "agg.iloc[:,column]"
   ]
  },
  {
   "cell_type": "markdown",
   "metadata": {},
   "source": [
    "### Chi dependence thresholds"
   ]
  },
  {
   "cell_type": "code",
   "execution_count": 36,
   "metadata": {},
   "outputs": [
    {
     "data": {
      "text/plain": [
       "(array([0.65947536, 0.646491  , 0.62522453, 0.61224429, 0.59898921,\n",
       "        0.59175865, 0.57781643, 0.56380256, 0.54705483, 0.54808776,\n",
       "        0.54987008, 0.55013719, 0.54500959, 0.53921872, 0.53478583,\n",
       "        0.53712669, 0.52586707, 0.53350413, 0.52980668, 0.53994059,\n",
       "        0.54250607, 0.55158931, 0.55378536, 0.56350606, 0.566799  ,\n",
       "        0.56810724, 0.57138624, 0.57156392, 0.57126828, 0.56330402,\n",
       "        0.56225761, 0.55490884, 0.5601311 , 0.55215734, 0.54620383,\n",
       "        0.54677057, 0.53791825, 0.53665048, 0.53501394, 0.52525636,\n",
       "        0.52516453, 0.53016406, 0.5336284 , 0.52590696, 0.52972453,\n",
       "        0.53207886, 0.52981009, 0.52827262, 0.52746362, 0.53056385,\n",
       "        0.53226497, 0.52728266, 0.52514497, 0.51946713, 0.51341757,\n",
       "        0.51238643, 0.51101546, 0.51256502, 0.51051919, 0.50921926,\n",
       "        0.51310596, 0.51226021, 0.5144395 , 0.51180053, 0.51449707,\n",
       "        0.50767529, 0.50386704, 0.49605304, 0.49973476, 0.49461356,\n",
       "        0.48648684, 0.48531732, 0.48502273, 0.48957682, 0.48458403,\n",
       "        0.48035804, 0.48252106, 0.47295778, 0.46835375, 0.47511289,\n",
       "        0.47252989, 0.4693423 , 0.46054505, 0.46258528, 0.44482046,\n",
       "        0.44352062, 0.4338704 , 0.43279279, 0.43098352, 0.42832543,\n",
       "        0.41528823, 0.41483134, 0.42413912, 0.41110086, 0.40735972,\n",
       "        0.4086688 , 0.39036405, 0.35367019, 0.338722  , 0.34495458]),\n",
       " array([0.20433123, 0.20739216, 0.19641939, 0.19773746, 0.19792705,\n",
       "        0.19727961, 0.19598673, 0.19417909, 0.18659497, 0.1944277 ,\n",
       "        0.20252385, 0.20933544, 0.20906007, 0.21115422, 0.21397412,\n",
       "        0.2187932 , 0.21637224, 0.22748194, 0.22773222, 0.2408104 ,\n",
       "        0.24819059, 0.26076608, 0.26553856, 0.27894805, 0.28704994,\n",
       "        0.29116852, 0.2992577 , 0.30458884, 0.30726746, 0.3052648 ,\n",
       "        0.30933034, 0.30776197, 0.3152089 , 0.31297691, 0.31251129,\n",
       "        0.31575721, 0.3126743 , 0.31623776, 0.31748699, 0.31354714,\n",
       "        0.31805759, 0.32708206, 0.33286227, 0.33055613, 0.33859751,\n",
       "        0.34342245, 0.34599605, 0.34923614, 0.35119953, 0.35872142,\n",
       "        0.36499714, 0.36508098, 0.36584397, 0.36530871, 0.36445435,\n",
       "        0.36626233, 0.36976895, 0.37602426, 0.37693513, 0.38060298,\n",
       "        0.38918155, 0.39337654, 0.39836236, 0.40094775, 0.40865776,\n",
       "        0.40518601, 0.40681566, 0.40472357, 0.41130757, 0.41188249,\n",
       "        0.40970096, 0.41419729, 0.41718737, 0.42729687, 0.42844805,\n",
       "        0.4278605 , 0.43602661, 0.43317728, 0.43241877, 0.44535768,\n",
       "        0.44958883, 0.45344396, 0.44904805, 0.45823502, 0.44884916,\n",
       "        0.45191026, 0.45070887, 0.45801014, 0.46100548, 0.46743359,\n",
       "        0.4644826 , 0.47405323, 0.48845764, 0.48714833, 0.49547829,\n",
       "        0.50320282, 0.49947579, 0.47957931, 0.47292027, 0.49739665]))"
      ]
     },
     "execution_count": 36,
     "metadata": {},
     "output_type": "execute_result"
    }
   ],
   "source": [
    "chi(agg.loc[:,('t2m','westeur')], agg.loc[:,('sst','medhot')], full = True, qlim = (0.05,0.95))"
   ]
  },
  {
   "cell_type": "code",
   "execution_count": 49,
   "metadata": {},
   "outputs": [
    {
     "data": {
      "text/plain": [
       "(array([0.65947536, 0.646491  , 0.62522453, 0.61224429, 0.59898921,\n",
       "        0.59175865, 0.57781643, 0.56380256, 0.54705483, 0.54808776,\n",
       "        0.54987008, 0.55013719, 0.54500959, 0.53921872, 0.53478583,\n",
       "        0.53712669, 0.52586707, 0.53350413, 0.52980668, 0.53994059,\n",
       "        0.54250607, 0.55158931, 0.55378536, 0.56350606, 0.566799  ,\n",
       "        0.56810724, 0.57138624, 0.57156392, 0.57126828, 0.56330402,\n",
       "        0.56225761, 0.55490884, 0.5601311 , 0.55215734, 0.54620383,\n",
       "        0.54677057, 0.53791825, 0.53665048, 0.53501394, 0.52525636,\n",
       "        0.52516453, 0.53016406, 0.5336284 , 0.52590696, 0.52972453,\n",
       "        0.53207886, 0.52981009, 0.52827262, 0.52746362, 0.53056385,\n",
       "        0.53226497, 0.52728266, 0.52514497, 0.51946713, 0.51341757,\n",
       "        0.51238643, 0.51101546, 0.51256502, 0.51051919, 0.50921926,\n",
       "        0.51310596, 0.51226021, 0.5144395 , 0.51180053, 0.51449707,\n",
       "        0.50767529, 0.50386704, 0.49605304, 0.49973476, 0.49461356,\n",
       "        0.48648684, 0.48531732, 0.48502273, 0.48957682, 0.48458403,\n",
       "        0.48035804, 0.48252106, 0.47295778, 0.46835375, 0.47511289,\n",
       "        0.47252989, 0.4693423 , 0.46054505, 0.46258528, 0.44482046,\n",
       "        0.44352062, 0.4338704 , 0.43279279, 0.43098352, 0.42832543,\n",
       "        0.41528823, 0.41483134, 0.42413912, 0.41110086, 0.40735972,\n",
       "        0.4086688 , 0.39036405, 0.35367019, 0.338722  , 0.34495458]),\n",
       " array([0.20433123, 0.20739216, 0.19641939, 0.19773746, 0.19792705,\n",
       "        0.19727961, 0.19598673, 0.19417909, 0.18659497, 0.1944277 ,\n",
       "        0.20252385, 0.20933544, 0.20906007, 0.21115422, 0.21397412,\n",
       "        0.2187932 , 0.21637224, 0.22748194, 0.22773222, 0.2408104 ,\n",
       "        0.24819059, 0.26076608, 0.26553856, 0.27894805, 0.28704994,\n",
       "        0.29116852, 0.2992577 , 0.30458884, 0.30726746, 0.3052648 ,\n",
       "        0.30933034, 0.30776197, 0.3152089 , 0.31297691, 0.31251129,\n",
       "        0.31575721, 0.3126743 , 0.31623776, 0.31748699, 0.31354714,\n",
       "        0.31805759, 0.32708206, 0.33286227, 0.33055613, 0.33859751,\n",
       "        0.34342245, 0.34599605, 0.34923614, 0.35119953, 0.35872142,\n",
       "        0.36499714, 0.36508098, 0.36584397, 0.36530871, 0.36445435,\n",
       "        0.36626233, 0.36976895, 0.37602426, 0.37693513, 0.38060298,\n",
       "        0.38918155, 0.39337654, 0.39836236, 0.40094775, 0.40865776,\n",
       "        0.40518601, 0.40681566, 0.40472357, 0.41130757, 0.41188249,\n",
       "        0.40970096, 0.41419729, 0.41718737, 0.42729687, 0.42844805,\n",
       "        0.4278605 , 0.43602661, 0.43317728, 0.43241877, 0.44535768,\n",
       "        0.44958883, 0.45344396, 0.44904805, 0.45823502, 0.44884916,\n",
       "        0.45191026, 0.45070887, 0.45801014, 0.46100548, 0.46743359,\n",
       "        0.4644826 , 0.47405323, 0.48845764, 0.48714833, 0.49547829,\n",
       "        0.50320282, 0.49947579, 0.47957931, 0.47292027, 0.49739665]))"
      ]
     },
     "execution_count": 49,
     "metadata": {},
     "output_type": "execute_result"
    }
   ],
   "source": [
    "chi(agg.loc[:,('t2m','westeur')], agg.loc[:,('sst','medhot')], full = True, qlim = (0.05,0.95))"
   ]
  },
  {
   "cell_type": "code",
   "execution_count": 21,
   "metadata": {},
   "outputs": [
    {
     "data": {
      "text/plain": [
       "MultiIndex([( 'sst',  'atcold'),\n",
       "            ( 'sst',   'athot'),\n",
       "            ( 'sst',  'medhot'),\n",
       "            ('z300',  'irhigh'),\n",
       "            ('z300',   'kzlow'),\n",
       "            ( 't2m', 'westeur')],\n",
       "           names=['dim_1_level_0', 'dim_1_level_1'])"
      ]
     },
     "execution_count": 21,
     "metadata": {},
     "output_type": "execute_result"
    }
   ],
   "source": [
    "agg.columns"
   ]
  },
  {
   "cell_type": "code",
   "execution_count": null,
   "metadata": {},
   "outputs": [],
   "source": []
  }
 ],
 "metadata": {
  "kernelspec": {
   "display_name": "Python 3",
   "language": "python",
   "name": "python3"
  },
  "language_info": {
   "codemirror_mode": {
    "name": "ipython",
    "version": 3
   },
   "file_extension": ".py",
   "mimetype": "text/x-python",
   "name": "python",
   "nbconvert_exporter": "python",
   "pygments_lexer": "ipython3",
   "version": "3.6.8"
  }
 },
 "nbformat": 4,
 "nbformat_minor": 2
}
