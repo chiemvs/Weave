{
 "cells": [
  {
   "cell_type": "code",
   "execution_count": 1,
   "metadata": {},
   "outputs": [],
   "source": [
    "import pandas as pd"
   ]
  },
  {
   "cell_type": "code",
   "execution_count": 23,
   "metadata": {},
   "outputs": [],
   "source": [
    "# All importances are mean_absolute_error\n",
    "# Scaling the scores to 1 before group averaging? Scores in one fold are not comparable to other folds.\n",
    "testpath = '/scistor/ivm/jsn295/importance/1/-3/responsagg_separation.parquet'"
   ]
  },
  {
   "cell_type": "code",
   "execution_count": 68,
   "metadata": {},
   "outputs": [],
   "source": [
    "def scale_scores(df):\n",
    "    df.loc[:,(slice(None),'score')] = df.loc[:,(slice(None),'score')].apply(lambda series: series / series.min(), axis = 0)\n",
    "    return df\n",
    "dat_onesep = pd.read_parquet(testpath)"
   ]
  },
  {
   "cell_type": "code",
   "execution_count": 69,
   "metadata": {},
   "outputs": [
    {
     "data": {
      "text/html": [
       "<div>\n",
       "<style scoped>\n",
       "    .dataframe tbody tr th:only-of-type {\n",
       "        vertical-align: middle;\n",
       "    }\n",
       "\n",
       "    .dataframe tbody tr th {\n",
       "        vertical-align: top;\n",
       "    }\n",
       "\n",
       "    .dataframe thead tr th {\n",
       "        text-align: left;\n",
       "    }\n",
       "\n",
       "    .dataframe thead tr:last-of-type th {\n",
       "        text-align: right;\n",
       "    }\n",
       "</style>\n",
       "<table border=\"1\" class=\"dataframe\">\n",
       "  <thead>\n",
       "    <tr>\n",
       "      <th></th>\n",
       "      <th></th>\n",
       "      <th></th>\n",
       "      <th></th>\n",
       "      <th></th>\n",
       "      <th></th>\n",
       "      <th></th>\n",
       "      <th colspan=\"2\" halign=\"left\">singlepass</th>\n",
       "      <th colspan=\"2\" halign=\"left\">multipass</th>\n",
       "    </tr>\n",
       "    <tr>\n",
       "      <th></th>\n",
       "      <th></th>\n",
       "      <th></th>\n",
       "      <th></th>\n",
       "      <th></th>\n",
       "      <th></th>\n",
       "      <th></th>\n",
       "      <th>rank</th>\n",
       "      <th>score</th>\n",
       "      <th>rank</th>\n",
       "      <th>score</th>\n",
       "    </tr>\n",
       "    <tr>\n",
       "      <th>fold</th>\n",
       "      <th>variable</th>\n",
       "      <th>timeagg</th>\n",
       "      <th>lag</th>\n",
       "      <th>separation</th>\n",
       "      <th>clustid</th>\n",
       "      <th>metric</th>\n",
       "      <th></th>\n",
       "      <th></th>\n",
       "      <th></th>\n",
       "      <th></th>\n",
       "    </tr>\n",
       "  </thead>\n",
       "  <tbody>\n",
       "    <tr>\n",
       "      <th>0</th>\n",
       "      <th>transp_europe</th>\n",
       "      <th>31</th>\n",
       "      <th>-34</th>\n",
       "      <th>-3</th>\n",
       "      <th>1</th>\n",
       "      <th>spatcov</th>\n",
       "      <td>0</td>\n",
       "      <td>1.462070</td>\n",
       "      <td>0.0</td>\n",
       "      <td>1.462070</td>\n",
       "    </tr>\n",
       "    <tr>\n",
       "      <th>1</th>\n",
       "      <th>z500_europe</th>\n",
       "      <th>5</th>\n",
       "      <th>-8</th>\n",
       "      <th>-3</th>\n",
       "      <th>1</th>\n",
       "      <th>spatcov</th>\n",
       "      <td>0</td>\n",
       "      <td>1.409904</td>\n",
       "      <td>0.0</td>\n",
       "      <td>1.409904</td>\n",
       "    </tr>\n",
       "    <tr>\n",
       "      <th>2</th>\n",
       "      <th>snowc_nhmin</th>\n",
       "      <th>7</th>\n",
       "      <th>-10</th>\n",
       "      <th>-3</th>\n",
       "      <th>2</th>\n",
       "      <th>spatcov</th>\n",
       "      <td>0</td>\n",
       "      <td>1.378261</td>\n",
       "      <td>0.0</td>\n",
       "      <td>1.378261</td>\n",
       "    </tr>\n",
       "    <tr>\n",
       "      <th>3</th>\n",
       "      <th>t850_nhblock</th>\n",
       "      <th>21</th>\n",
       "      <th>-24</th>\n",
       "      <th>-3</th>\n",
       "      <th>2</th>\n",
       "      <th>spatcov</th>\n",
       "      <td>0</td>\n",
       "      <td>1.589272</td>\n",
       "      <td>0.0</td>\n",
       "      <td>1.589272</td>\n",
       "    </tr>\n",
       "    <tr>\n",
       "      <th>4</th>\n",
       "      <th>t850_nhblock</th>\n",
       "      <th>21</th>\n",
       "      <th>-24</th>\n",
       "      <th>-3</th>\n",
       "      <th>2</th>\n",
       "      <th>spatcov</th>\n",
       "      <td>0</td>\n",
       "      <td>1.357581</td>\n",
       "      <td>0.0</td>\n",
       "      <td>1.357581</td>\n",
       "    </tr>\n",
       "    <tr>\n",
       "      <th>5</th>\n",
       "      <th>z500_europe</th>\n",
       "      <th>3</th>\n",
       "      <th>-6</th>\n",
       "      <th>-3</th>\n",
       "      <th>2</th>\n",
       "      <th>mean</th>\n",
       "      <td>0</td>\n",
       "      <td>1.370825</td>\n",
       "      <td>0.0</td>\n",
       "      <td>1.370825</td>\n",
       "    </tr>\n",
       "    <tr>\n",
       "      <th>6</th>\n",
       "      <th>sst_nhplus</th>\n",
       "      <th>15</th>\n",
       "      <th>-18</th>\n",
       "      <th>-3</th>\n",
       "      <th>10</th>\n",
       "      <th>spatcov</th>\n",
       "      <td>0</td>\n",
       "      <td>1.601329</td>\n",
       "      <td>0.0</td>\n",
       "      <td>1.601329</td>\n",
       "    </tr>\n",
       "    <tr>\n",
       "      <th>7</th>\n",
       "      <th>t850_nhblock</th>\n",
       "      <th>21</th>\n",
       "      <th>-24</th>\n",
       "      <th>-3</th>\n",
       "      <th>2</th>\n",
       "      <th>spatcov</th>\n",
       "      <td>0</td>\n",
       "      <td>1.414443</td>\n",
       "      <td>0.0</td>\n",
       "      <td>1.414443</td>\n",
       "    </tr>\n",
       "    <tr>\n",
       "      <th>8</th>\n",
       "      <th>sst_nhplus</th>\n",
       "      <th>31</th>\n",
       "      <th>-34</th>\n",
       "      <th>-3</th>\n",
       "      <th>2</th>\n",
       "      <th>mean</th>\n",
       "      <td>0</td>\n",
       "      <td>1.500411</td>\n",
       "      <td>0.0</td>\n",
       "      <td>1.500411</td>\n",
       "    </tr>\n",
       "    <tr>\n",
       "      <th>9</th>\n",
       "      <th>t850_nhblock</th>\n",
       "      <th>21</th>\n",
       "      <th>-24</th>\n",
       "      <th>-3</th>\n",
       "      <th>2</th>\n",
       "      <th>spatcov</th>\n",
       "      <td>0</td>\n",
       "      <td>1.461348</td>\n",
       "      <td>0.0</td>\n",
       "      <td>1.461348</td>\n",
       "    </tr>\n",
       "  </tbody>\n",
       "</table>\n",
       "</div>"
      ],
      "text/plain": [
       "                                                          singlepass  \\\n",
       "                                                                rank   \n",
       "fold variable      timeagg lag separation clustid metric               \n",
       "0    transp_europe 31      -34 -3         1       spatcov          0   \n",
       "1    z500_europe   5       -8  -3         1       spatcov          0   \n",
       "2    snowc_nhmin   7       -10 -3         2       spatcov          0   \n",
       "3    t850_nhblock  21      -24 -3         2       spatcov          0   \n",
       "4    t850_nhblock  21      -24 -3         2       spatcov          0   \n",
       "5    z500_europe   3       -6  -3         2       mean             0   \n",
       "6    sst_nhplus    15      -18 -3         10      spatcov          0   \n",
       "7    t850_nhblock  21      -24 -3         2       spatcov          0   \n",
       "8    sst_nhplus    31      -34 -3         2       mean             0   \n",
       "9    t850_nhblock  21      -24 -3         2       spatcov          0   \n",
       "\n",
       "                                                                    multipass  \\\n",
       "                                                              score      rank   \n",
       "fold variable      timeagg lag separation clustid metric                        \n",
       "0    transp_europe 31      -34 -3         1       spatcov  1.462070       0.0   \n",
       "1    z500_europe   5       -8  -3         1       spatcov  1.409904       0.0   \n",
       "2    snowc_nhmin   7       -10 -3         2       spatcov  1.378261       0.0   \n",
       "3    t850_nhblock  21      -24 -3         2       spatcov  1.589272       0.0   \n",
       "4    t850_nhblock  21      -24 -3         2       spatcov  1.357581       0.0   \n",
       "5    z500_europe   3       -6  -3         2       mean     1.370825       0.0   \n",
       "6    sst_nhplus    15      -18 -3         10      spatcov  1.601329       0.0   \n",
       "7    t850_nhblock  21      -24 -3         2       spatcov  1.414443       0.0   \n",
       "8    sst_nhplus    31      -34 -3         2       mean     1.500411       0.0   \n",
       "9    t850_nhblock  21      -24 -3         2       spatcov  1.461348       0.0   \n",
       "\n",
       "                                                                     \n",
       "                                                              score  \n",
       "fold variable      timeagg lag separation clustid metric             \n",
       "0    transp_europe 31      -34 -3         1       spatcov  1.462070  \n",
       "1    z500_europe   5       -8  -3         1       spatcov  1.409904  \n",
       "2    snowc_nhmin   7       -10 -3         2       spatcov  1.378261  \n",
       "3    t850_nhblock  21      -24 -3         2       spatcov  1.589272  \n",
       "4    t850_nhblock  21      -24 -3         2       spatcov  1.357581  \n",
       "5    z500_europe   3       -6  -3         2       mean     1.370825  \n",
       "6    sst_nhplus    15      -18 -3         10      spatcov  1.601329  \n",
       "7    t850_nhblock  21      -24 -3         2       spatcov  1.414443  \n",
       "8    sst_nhplus    31      -34 -3         2       mean     1.500411  \n",
       "9    t850_nhblock  21      -24 -3         2       spatcov  1.461348  "
      ]
     },
     "execution_count": 69,
     "metadata": {},
     "output_type": "execute_result"
    }
   ],
   "source": [
    "dat_mean = dat_onesep.groupby('fold').apply(scale_scores).groupby(dat_onesep.index.names[1:]).mean() # Scale to max score per fold before averaging scores\n",
    "dat_onesep.loc[dat_onesep['singlepass','rank'] == 0,:]"
   ]
  },
  {
   "cell_type": "code",
   "execution_count": 70,
   "metadata": {},
   "outputs": [
    {
     "data": {
      "text/plain": [
       "<matplotlib.axes._subplots.AxesSubplot at 0x2aab7fe92e80>"
      ]
     },
     "execution_count": 70,
     "metadata": {},
     "output_type": "execute_result"
    },
    {
     "data": {
      "image/png": "[encoded data removed]",
      "text/plain": [
       "<Figure size 432x288 with 1 Axes>"
      ]
     },
     "metadata": {
      "needs_background": "light"
     },
     "output_type": "display_data"
    }
   ],
   "source": [
    "dat_mean['singlepass','score'].hist()"
   ]
  },
  {
   "cell_type": "code",
   "execution_count": 76,
   "metadata": {},
   "outputs": [
    {
     "data": {
      "text/plain": [
       "singlepass  rank     233.700000\n",
       "            score      1.002116\n",
       "multipass   rank       7.000000\n",
       "            score      1.000000\n",
       "Name: (snowc_nhmin, 21, -24, -3, 2, mean), dtype: float64"
      ]
     },
     "execution_count": 76,
     "metadata": {},
     "output_type": "execute_result"
    }
   ],
   "source": [
    "dat_mean.iloc[dat_mean['multipass','rank'].argmax(),:]"
   ]
  },
  {
   "cell_type": "code",
   "execution_count": null,
   "metadata": {},
   "outputs": [],
   "source": [
    "# Perhaps replace the nan multipass ranks with just the shared worst possible?"
   ]
  }
 ],
 "metadata": {
  "kernelspec": {
   "display_name": "Python 3",
   "language": "python",
   "name": "python3"
  },
  "language_info": {
   "codemirror_mode": {
    "name": "ipython",
    "version": 3
   },
   "file_extension": ".py",
   "mimetype": "text/x-python",
   "name": "python",
   "nbconvert_exporter": "python",
   "pygments_lexer": "ipython3",
   "version": "3.6.8"
  }
 },
 "nbformat": 4,
 "nbformat_minor": 4
}
